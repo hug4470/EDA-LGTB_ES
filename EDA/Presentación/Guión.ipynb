{
 "cells": [
  {
   "cell_type": "markdown",
   "metadata": {},
   "source": [
    "# Análisis Exploratorio de Datos (EDA) sobre Agresiones LGTBIfóbicas en España (2014-2023)"
   ]
  },
  {
   "cell_type": "markdown",
   "metadata": {},
   "source": [
    "# 0. Introducción"
   ]
  },
  {
   "cell_type": "markdown",
   "metadata": {},
   "source": [
    "### Presentación personal"
   ]
  },
  {
   "cell_type": "markdown",
   "metadata": {},
   "source": [
    "Hugo Menéndez. Perteneciente al colectivo LGTBIQ+, por si había dudas."
   ]
  },
  {
   "cell_type": "markdown",
   "metadata": {},
   "source": [
    "### Gancho inicial"
   ]
  },
  {
   "cell_type": "markdown",
   "metadata": {},
   "source": [
    "¿En qué puesto a nivel mundial diríais que España se encuentra en materia LGTBI+?<br>\n",
    "El 4.<br>\n",
    " ¿Pero qué quiere decir esto? ¿Es sinónimo de seguridad o es un mal menor? <br>\n",
    "Veamos algunos datos:<br>\n",
    "1. En España, cada año se intentan quitar la vida 1000 jóvenes LGTBI, 50 de ellos lo consiguen.\n",
    "2. ¿Cuantos teneis 30 años o más? Pues si fuerais personas trans, os quedaría poco según vuestra esperanza de vida, que actualmente se sitúa en 35 años para las personas trans. **(Gráfico vs esperanza de vida total?)**"
   ]
  },
  {
   "cell_type": "markdown",
   "metadata": {},
   "source": [
    "### Contexto del problema"
   ]
  },
  {
   "cell_type": "markdown",
   "metadata": {},
   "source": [
    "Que España ocupe el 4 puesto, no quiere decir que sea un país absolutamente seguro para el colectivo LGTBIQ+. Veamos esto con los datos de las agresiones en nuestro país en los últimos 10 años."
   ]
  },
  {
   "cell_type": "markdown",
   "metadata": {},
   "source": [
    "# 1. Presentación del proyecto"
   ]
  },
  {
   "cell_type": "markdown",
   "metadata": {},
   "source": [
    "## 1.1 Propósito del análisis"
   ]
  },
  {
   "cell_type": "markdown",
   "metadata": {},
   "source": [
    "### 1.2 Hipótesis"
   ]
  },
  {
   "cell_type": "markdown",
   "metadata": {},
   "source": [
    "Vamos a intentar investigar y probar ciertas hipótesis sobre este tema:<br>\n",
    "1. Incremento de agresiones: Las agresiones contra el colectivo LGTBIQ+ han aumentado en España durante el período estudiado.\n",
    "2. Variabilidad regional: Existen diferencias significativas en la incidencia de estos delitos entre las comunidades autónomas.\n",
    "3. Subgrupos más vulnerables: Algunos subgrupos dentro del colectivo son más propensos a sufrir agresiones. ¿Afecta la invisibilidad?\n",
    "4. Impacto legislativo: Las modificaciones en la legislación pueden haber influido en la variación de los delitos de odio."
   ]
  },
  {
   "cell_type": "markdown",
   "metadata": {},
   "source": [
    "## 2. Datos"
   ]
  },
  {
   "cell_type": "markdown",
   "metadata": {},
   "source": [
    "### 2.1 Origen de los datos"
   ]
  },
  {
   "cell_type": "markdown",
   "metadata": {},
   "source": [
    "Para este análisis, hemos utilizado principalmente el registro de delitos de odio en materia de diversidad sexual y/o de género entre 2014 y 2023, por C.A. Obtenido del portal estadístico de criminalidad del Ministerio de Igualdad."
   ]
  },
  {
   "cell_type": "markdown",
   "metadata": {},
   "source": [
    "Un breve apunte: Los delitos de odio por diversidad sexual y/o de género son crímenes motivados por el rechazo o prejuicio hacia la orientación sexual, identidad o expresión de género de las personas, como ataques físicos, insultos o amenazas. De la Federación Estatal LGTBI."
   ]
  },
  {
   "cell_type": "markdown",
   "metadata": {},
   "source": [
    "Además, también hemos obtenido los registros de entre 2021 y 2023 (los disponibles), de cómo se distribuyen estas agresiones por identidad de género o sexualidad."
   ]
  },
  {
   "cell_type": "markdown",
   "metadata": {},
   "source": [
    "**DISCLAIMER**: Importante decir que los organismos que han generado estos datos, no comparten totalmente las mismas bases de datos, entonces hay algunas cifran que no coinciden en cantidad por año. Esto se debe a que los informes de la FELGTBI han tenido acceso a datos, de otras fuentes no públicas, que no pueden ofrecernos por protección. Nos evidencia otra carencia más de la investigación que debe haber en torno a esta materia"
   ]
  },
  {
   "cell_type": "markdown",
   "metadata": {},
   "source": [
    "## 3. Análisis"
   ]
  },
  {
   "cell_type": "markdown",
   "metadata": {},
   "source": [
    "Antes de empezar: ¿Qué significa este porcentaje:?<br>\n",
    "19%<br>\n",
    "Es el porcentaje de agresiones que son denunciadas, es decir, se estima que en 2023 el 80% de los delitos de odio no se denuncian, por lo que lo que veremos hoy, será solo una estimación del 20%.<br>"
   ]
  },
  {
   "cell_type": "markdown",
   "metadata": {},
   "source": [
    "**¿Gáfico? Sencillo pero muy visual e impactante?**"
   ]
  },
  {
   "cell_type": "markdown",
   "metadata": {},
   "source": [
    "### 3.1 Nos ubicamos: Agresiones a nivel estatal en los últimos años. Comparación con 2023"
   ]
  },
  {
   "cell_type": "markdown",
   "metadata": {},
   "source": [
    "¿Cuantas agresiones ha habido en España en estos años? ¿Cual es su media?"
   ]
  },
  {
   "cell_type": "markdown",
   "metadata": {},
   "source": [
    "<img src=\"./images/Total nacional por años.jpg\" alt=\"imagen\" width=\"300\"/>"
   ]
  },
  {
   "cell_type": "markdown",
   "metadata": {},
   "source": [
    "Comprobar hipótesis 1."
   ]
  },
  {
   "cell_type": "markdown",
   "metadata": {},
   "source": [
    "Se analiza el total de agresiones a nivel estatal desde 2014 hasta 2023. Los datos muestran que:<br>\n",
    "<br>\n",
    "En 2014, se registraron 513 casos, mientras que en 2023, este número ascendió a 530.<br>\n",
    "<br>\n",
    "A lo largo de los años, se observan fluctuaciones, destacando un aumento significativo en los años recientes (2020: 282 casos, 2022: 464 casos).<br>\n",
    "<br>\n",
    "La media anual de agresiones a nivel estatal es 347.8 casos.<br>\n",
    "<br>\n",
    "Análisis: Existe un patrón de incremento, especialmente desde 2020, lo que confirma la hipótesis de un aumento en las agresiones contra el colectivo LGTBIQ+ en España durante el período estudiado. Este aumento podría estar relacionado con una mayor visibilidad de las denuncias, mayor sensibilidad social o un aumento real en los casos."
   ]
  },
  {
   "cell_type": "markdown",
   "metadata": {},
   "source": [
    "**HIPÓTESIS CONFIRMADA**"
   ]
  },
  {
   "cell_type": "markdown",
   "metadata": {},
   "source": [
    "### 3.2 Agresiones por CC.AA."
   ]
  },
  {
   "cell_type": "markdown",
   "metadata": {},
   "source": [
    "Vamos a analizarlo por CC.AA.<br>\n",
    "En este caso, la cantidad total no nos es tan útil, ya que la densidad de población cambia considerablemente entre territorios, así que hemos calculado la incidencia por cada millón de habitantes para cada C.A. y por cada año."
   ]
  },
  {
   "cell_type": "markdown",
   "metadata": {},
   "source": [
    "Sería interesante ver la evolución también por territorio año a año, pero para economizar el tiempo, compararemos la situación media de estos 10 años con la situación de 2023, la última registrada.<br>\n",
    "Tenemos así estos datos, primero de la media en los 10 años:"
   ]
  },
  {
   "cell_type": "markdown",
   "metadata": {},
   "source": [
    "<img src=\"./images/mapaespañaMEDIA.png\" alt=\"imagen\" width=\"600\"/>"
   ]
  },
  {
   "cell_type": "markdown",
   "metadata": {},
   "source": [
    "Incidencia por millón de habitantes de media en estos 10 años sabiendo que:<br>\n",
    "    - Verde: menos de 5 agresiones por millon de habitante por año.<br>\n",
    "    - Amarillo: entre 6 y 10 agresiones por millón de habitante por año.<br>\n",
    "    - Rojo: más de 10 agresiones por millón de habitante por año.<br>"
   ]
  },
  {
   "cell_type": "markdown",
   "metadata": {},
   "source": [
    "Vemos que no hay necesariamente una correlación muy significativa para las CC.AA. con mayor incidencia, ya que Madrid, Andalucía y Valencia, grandes núcleos poblacionales, (que ocupan en algun año algún puesto del raking, pero se compensan con otros años más seguros) no están en rojo. Sin embargo, País Vasco, la 7ª más poblada, por detrás de las ya comentadas además de Cataluña, sí que tiene una mayor incidencia."
   ]
  },
  {
   "cell_type": "markdown",
   "metadata": {},
   "source": [
    "Quizás si que por la baja podemos ver correlación con la cantidad de población y su incidencia, pero tampoco de forma exagerada."
   ]
  },
  {
   "cell_type": "markdown",
   "metadata": {},
   "source": [
    "Veamos la situación \"actual\" (la última registrada)"
   ]
  },
  {
   "cell_type": "markdown",
   "metadata": {},
   "source": [
    "<img src=\"./images/mapaespaña23.png\" alt=\"imagen\" width=\"600\"/>"
   ]
  },
  {
   "cell_type": "markdown",
   "metadata": {},
   "source": [
    "Vemos como claramente la situación en general empeora, sumándose al ranking, efectivamente Madrid, Valencia y Andalucía. "
   ]
  },
  {
   "cell_type": "markdown",
   "metadata": {},
   "source": [
    "Podría parecer que si que las grandes comunidades abarcan la mayoría de agresiones pero... veámoslo con números."
   ]
  },
  {
   "cell_type": "markdown",
   "metadata": {},
   "source": [
    "Veamos estos valores comparados:"
   ]
  },
  {
   "cell_type": "markdown",
   "metadata": {},
   "source": [
    "<img src=\"./images/Incidencia14-23.jpg\" alt=\"imagen\" width=\"400\"/>\n",
    "<img src=\"./images/Incidencia2023.jpg\" alt=\"imagen\" width=\"400\"/>"
   ]
  },
  {
   "cell_type": "markdown",
   "metadata": {},
   "source": [
    "En 2023, la media sube, confirmando la hipótesis que ya probamos antes. Y en esta ocasión, 6 CC.AA. y las 2 ciudades autónomas, superan a la media. "
   ]
  },
  {
   "cell_type": "markdown",
   "metadata": {},
   "source": [
    "**OBSERVACIONES**"
   ]
  },
  {
   "cell_type": "markdown",
   "metadata": {},
   "source": [
    "Aquí observamos que de media, solo Cataluña como una de las 5 CC.AA. más pobladas, está por encima de la media.<br>\n",
    "**Comunidades con mayor tasa de agresiones (en 2023)**:<br>\n",
    "<br>\n",
    "País Vasco: 39.7 agresiones por millón de habitantes en 2023. Es la comunidad autónoma con la mayor tasa de agresiones en los últimos años.<br><br>\n",
    "Cataluña: 14.04 agresiones por millón en 2023, una tendencia ascendente que ha ido creciendo desde 2016, cuando era de 7.59.<br><br>\n",
    "Comunidad Valenciana: 13.42 agresiones por millón en 2023, también con una tendencia ascendente marcada.<br><br>\n",
    "Madrid: 10.33 agresiones por millón en 2023, habiendo tenido también un gran crecimiento desde 2014 (3.78 agresiones por millón).<br><br>\n",
    "<br>\n",
    "**Comunidades con menor tasa de agresiones:**<br>\n",
    "<br>\n",
    "La Rioja: Hasta 2022, no había reportes de agresiones, pero en 2023 aparece con una tasa de 6.2 por millón de habitantes. Mayor que la de Madrid en 2014.<br><br>\n",
    "Cantabria y Extremadura: Estas comunidades también tienen tasas relativamente bajas (3.39 y 2.84 en 2023, respectivamente)."
   ]
  },
  {
   "cell_type": "markdown",
   "metadata": {},
   "source": [
    "**CONCLUSIONES**<br>\n",
    "Regiones como el País Vasco, Cataluña, Comunidad Valenciana y Madrid han registrado tasas elevadas, con un incremento continuo en los últimos años. País Vasco destaca con la tasa más alta en 2023 (39.7 agresiones por millón). <br>\n",
    "<br>\n",
    "Estas tendencias sugieren que, en grandes ciudades, donde la visibilidad del colectivo LGTBIQ+ es mayor, también lo es el riesgo de agresiones.<br>\n",
    "\n",
    "Sin embargo, no todas las regiones más pequeñas tienen tasas bajas. Por ejemplo, Melilla y el País Vasco presentan picos significativos, lo que podría indicar que el tamaño de la población no es el único factor determinante.<br><br>\n",
    "En general, la hipótesis de que las grandes ciudades presentan mayor riesgo de agresiones se cumple parcialmente, pero también se observa que en algunas zonas más pequeñas o menos densamente pobladas, las tasas son sorprendentemente altas. <br><br>\n",
    "Esto sugiere que factores como la cultura, la visibilidad del colectivo y la disposición a denunciar agresiones también influyen en la variabilidad regional."
   ]
  },
  {
   "cell_type": "markdown",
   "metadata": {},
   "source": [
    "**HIPÓTESIS 2: INDETERMINADA**<br>\n",
    "Confirmamos que hay grandes diferencias pero no podemos establecer muy bien las causas."
   ]
  },
  {
   "cell_type": "markdown",
   "metadata": {},
   "source": [
    "### 3.3 Agresiones segregadas por identidades y sexualidad"
   ]
  },
  {
   "cell_type": "markdown",
   "metadata": {},
   "source": [
    "<img src=\"./images/identidad 2021.png\" alt=\"imagen\" width=\"200\"/>\n",
    "<img src=\"./images/identidad 2022.png\" alt=\"imagen\" width=\"200\"/>\n",
    "<img src=\"./images/identidad 2023.png\" alt=\"imagen\" width=\"200\"/><br>\n",
    "<img src=\"./images/Sexualidad 2021.png\" alt=\"imagen\" width=\"200\"/>\n",
    "<img src=\"./images/Sexualidad 2022.png\" alt=\"imagen\" width=\"200\"/>\n",
    "<img src=\"./images/Sexualidad 2023.png\" alt=\"imagen\" width=\"200\"/>"
   ]
  },
  {
   "cell_type": "markdown",
   "metadata": {},
   "source": [
    "Un detalle que nos llama la atención es el incremento en los casos de personas cuya identidad, tanto de género como de orientación sexual, no ha sido identificada claramente, sobre todo en 2023. Esto podría sugerir dificultades a la hora de clasificar o registrar correctamente las agresiones o un cambio en las dinámicas de violencia.<br>\n",
    "¿Qué podría signfiicar esto?<br>\n",
    "Falta de información proporcionada:\n",
    "Invisibilización o desinterés en el registro:\n",
    "Privacidad:\n",
    "Presunción errónea:\n",
    "Complejidad de identidad: Algunas personas pueden no identificarse dentro de las categorías tradicionales de orientación sexual, lo que dificulta el registro preciso de la información."
   ]
  },
  {
   "cell_type": "markdown",
   "metadata": {},
   "source": [
    "<img src=\"./images/identidad21-23.png\" alt=\"imagen\" width=\"200\"/>\n",
    "<img src=\"./images/sexualidad21-23.png\" alt=\"imagen\" width=\"200\"/>"
   ]
  },
  {
   "cell_type": "markdown",
   "metadata": {},
   "source": [
    "En estos datos podemos ver cómo han cambiado las agresiones hacia distintas identidades de género y orientaciones sexuales entre 2021 y 2023. Las agresiones a **hombres cis** han disminuido notablemente, bajando de 128 en 2021 a 94 en 2023, mientras que las **mujeres cis** han experimentado un incremento considerable, prácticamente doblando sus cifras. **Mujeres** en general y **Personas no binarias** sufren aumentos prácticamente cada año. Vemos la aparición de agresiones a personas Intersex en 2023, pero no podemos conlcuir que antes no se dieran sino que, una vez más, quizá ha sido porque es cuando han empezado a registrarse como tal. "
   ]
  },
  {
   "cell_type": "markdown",
   "metadata": {},
   "source": [
    "En cuanto a sexualidades:<br>\n",
    "Observamos como el colectvio **Gay** mengua su porcentaje, en favor (aparte de Desconicido) de personas bisexuales y lesbianas. Las personas heterosexuales ven rebajada su incidencia. Dato muy interesante. De hecho..."
   ]
  },
  {
   "cell_type": "markdown",
   "metadata": {},
   "source": [
    "¿Personas heterosexuales?<br>\n",
    "Pues obviamente existen personas heterosexuales pertenecientes al colectivo, que pueden ser hombres o mujeres trans u otras identidades.<br>\n",
    "Pero... ¿no habrá algúna persona cis Y heterosexual, o sea, no perteneciente al colectivo? Veamos una tabla de correlación"
   ]
  },
  {
   "cell_type": "markdown",
   "metadata": {},
   "source": [
    "<img src=\"./images/correlacion_identidad_sexualidad.png\" alt=\"imagen\" width=\"300\"/>"
   ]
  },
  {
   "cell_type": "markdown",
   "metadata": {},
   "source": [
    "¡Muy interesante! Justamente vemos que \"Hombre Cis\" y \"Heterosexual\" tienen una fuerte correlación positiva (0.704), lo que podría indicar que las agresiones hacia hombres cis están relacionadas con una mala lectura de su sexualidad por su epxresión de género. Una situación que quedaría mejor registrada si se contemplara enm estos registros la \"**plumofobia**\"."
   ]
  },
  {
   "cell_type": "markdown",
   "metadata": {},
   "source": [
    "Otras correlaciones a destacar:<br>\n",
    "- \"Mujer Cis\" y \"Mujer Trans\" tienen una correlación de 0.937, lo que sugiere que las agresiones o eventos que involucran a mujeres cis y mujeres trans tienden a ocurrir en conjunto.\n",
    "- La orientación \"Gay\" tiene una fuerte correlación con \"Hombre Cis\" (0.886), lo que podría señalar que la violencia o los eventos hacia hombres cis están vinculados con aquellos hacia personas gays en este conjunto de datos.\n",
    "- En cuanto a \"Desconocido\", tiene una correlación negativa fuerte con \"Hombre Cis\" (-0.916), lo que podría indicar que cuando no se conoce la identidad, es menos probable que los eventos involucren a hombres cis."
   ]
  },
  {
   "cell_type": "markdown",
   "metadata": {},
   "source": [
    "**HIPÓTESIS 3: Subgrupos más vulnerables**"
   ]
  },
  {
   "cell_type": "markdown",
   "metadata": {},
   "source": [
    "Si teníamos esta premisa en la hipótesis: \"Algunos subgrupos dentro del colectivo son más propensos a sufrir agresiones. ¿Afecta la invisibilidad?\", podemos confirmar que los colectivos menos agredidos son los menos visibilizados, y al revés. Incluso, al interpretar el diagrama de correlación observamos como puede afectar incluso a personas que realmente no forman parte del coletcivo, como hombres cisheterosexuales, posiblemente siendo un crimen de odio a raíz de la expresión de género y una mala lectura como hombre gay. sería interesante registrar y cuantificar los crímenes por plumofobia."
   ]
  },
  {
   "cell_type": "markdown",
   "metadata": {},
   "source": [
    "**HIPÓTESIS 3: CONFIRMADA**"
   ]
  },
  {
   "cell_type": "markdown",
   "metadata": {},
   "source": [
    "### 3.4 Influencia posible de la legislación"
   ]
  },
  {
   "cell_type": "markdown",
   "metadata": {},
   "source": [
    "Observemos los años en los que ha habido cambios más signficativos a nivel legislativo en este período, para analizar si ha podido haber algún indicio de impacto."
   ]
  },
  {
   "cell_type": "markdown",
   "metadata": {},
   "source": [
    "**2023**\n",
    "Junio<br>\n",
    "Ley de Igualdad LGTBI (la famosa ley trans):\n",
    "\n",
    "Objetivo: Garantizar la igualdad de derechos y la protección del colectivo LGTBI.\n",
    "Medidas:\n",
    "Prohibición de discriminación por orientación sexual o identidad de género.\n",
    "Creación de un registro estatal de delitos de odio.\n",
    "Impulso de campañas de sensibilización y formación sobre diversidad sexual.\n",
    "Protección específica para menores LGTBI, incluyendo el derecho a ser atendidos en centros educativos con respeto a su identidad.\n",
    "\n",
    "**2022**\n",
    "Diciembre <br>\n",
    "Modificación del Código Penal:\n",
    "\n",
    "Cambios:\n",
    "Aumento de las penas para los delitos de odio basados en la orientación sexual o identidad de género.\n",
    "Introducción de medidas para mejorar la respuesta de las fuerzas de seguridad y del sistema judicial ante estos delitos.\n",
    "\n",
    "**2021**\n",
    "Junio<br>\n",
    "1. Ley Orgánica de Protección de la Infancia y la Adolescencia frente a la Violencia:<br>\n",
    "Contenido: Se incluye un enfoque específico sobre la protección de los menores LGTBI frente a la violencia y la discriminación, con medidas de prevención y atención.\n",
    "\n",
    "Febrero<br>\n",
    "2. Plan de Acción para la Igualdad LGTBI:<br>\n",
    "Objetivo: Desarrollar políticas públicas para erradicar la discriminación y promover la igualdad, con un enfoque en la violencia y los crímenes de odio."
   ]
  },
  {
   "cell_type": "markdown",
   "metadata": {},
   "source": [
    "Comprobar hipótesis 4"
   ]
  },
  {
   "cell_type": "markdown",
   "metadata": {},
   "source": [
    "<img src=\"./images/Total nacional por años.jpg\" alt=\"imagen\" width=\"300\"/>"
   ]
  },
  {
   "cell_type": "markdown",
   "metadata": {},
   "source": [
    "Aunque nos faltarían algunos datos y tener en cuenta otros condicionantes, sí que al menos podríamos afirmar algún tipo de correlación entre legislación y agresiones.<br>\n",
    "Por ejemplo. Tras aprobarse las legislaciones de 2021, ese año aumentan rápidamente las agresiones, y al ser ambas legislaciones de la primera mitad del año, podría intuirse que esto expone al colectivo LGTBIQ+ de forma negativa.<br>"
   ]
  },
  {
   "cell_type": "markdown",
   "metadata": {},
   "source": [
    "En 2022 los casos bajan, pero solo por 12, siendo una bajada ínfima en comparación a la subida anterior. Aquí en Diciembre se aprueba otra legislación. Veamos su efecto en 2023."
   ]
  },
  {
   "cell_type": "markdown",
   "metadata": {},
   "source": [
    "En 2023, tras la legislación de 2022 y también con la aprobación de la polémica pero necesaria Ley Trans, los casos aumentan en 66, dándose un total de 530 agresiones, el año más violento para el colectivo de estos 10 años."
   ]
  },
  {
   "cell_type": "markdown",
   "metadata": {},
   "source": [
    "No podemos confirmar esta hipótesis por lo ya comentado, pero es un punto de inicio interesante para un potencial análisis excluisvo de esta relación. Hay indicios sufientes, esos sí, para determinarla por el momento como proable."
   ]
  },
  {
   "cell_type": "markdown",
   "metadata": {},
   "source": [
    "**HIPÓTESIS 4:** PROBABLE"
   ]
  },
  {
   "cell_type": "markdown",
   "metadata": {},
   "source": [
    "## 4. Conclusiones"
   ]
  },
  {
   "cell_type": "markdown",
   "metadata": {},
   "source": [
    "1. Ha habido un aumento de las agresiones en el período 2014-2023.\n",
    "2. Podría darse también a una mayor concienciación con las denuncias.\n",
    "3. También con la visibilidad.\n",
    "4. Los núcleos de población mayores tienden a acumular mayor incidencia, pero no es determinante.\n",
    "5. El registro de agresiones según identidades es ineficaz de momento, al no haber tenido siempre en cuenta todas las categorías existentes y sin contemplar aún las agresiones referentes a expresión de género.\n",
    "6. La LGTBIfobia no afecta directamente solo al colectivo LGTBIQ+.\n",
    "7. Hay identidades más sensibles a sufrir agresiones.\n",
    "8. La visbilidad también conlleva un período de incremento de agresiones.\n",
    "9. La legislación es necesaria pero insuficiente."
   ]
  },
  {
   "cell_type": "markdown",
   "metadata": {},
   "source": [
    "## 5. Cierre"
   ]
  },
  {
   "cell_type": "markdown",
   "metadata": {},
   "source": [
    "Propuestas de mejora:\n",
    "Para mejorar y ampliar tu estudio en el futuro, podrías implementar varios elementos adicionales:\n",
    "\n",
    "1. **Análisis geoespacial más detallado**: No solo por núcleos de población grandes, sino también por áreas rurales o zonas periféricas.\n",
    "\n",
    "2. **Segmentación temporal más fina**: Por trimestre o semestre, para detectar patrones.\n",
    "\n",
    "3. **Estudio sobre el impacto de la visibilidad mediática**: Cómo el Orgullo o noticias relacionadas con derechos LGTBIQ+, influyen en los picos de agresiones. Comparar meses previos y posteriores a estos eventos podría aportar información valiosa.\n",
    "\n",
    "4. **Comparativa internacional**: Incluir comparaciones con otros países que tengan políticas similares o diferentes hacia el colectivo LGTBIQ+, para ver cómo las diferencias legislativas o sociales afectan las tasas de agresiones.\n",
    "\n",
    "5. **Evaluación de políticas públicas**: Investigar el impacto directo de las leyes recientes sobre delitos de odio y protección al colectivo LGTBIQ+, para evaluar cómo las legislaciones están ayudando (o no) a reducir las agresiones.\n",
    "\n",
    "6. **Análisis de discursos de odio en partidos políticos**: Cómo los discursos y retóricas de ciertos partidos políticos legitiman y normalizan la violencia hacia el colectivo LGTBIQ+. Este análisis podría incluir el estudio de declaraciones públicas, propuestas legislativas y su impacto en la percepción social de las identidades de género y orientación sexual. Examinar la relación entre la retórica política y el aumento de agresiones ayudaría a comprender cómo el lenguaje puede influir en actitudes y comportamientos violentos, creando un entorno en el que las agresiones se consideran más aceptables."
   ]
  }
 ],
 "metadata": {
  "language_info": {
   "name": "python"
  }
 },
 "nbformat": 4,
 "nbformat_minor": 2
}
